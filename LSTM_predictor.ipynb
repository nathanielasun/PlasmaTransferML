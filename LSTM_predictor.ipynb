{
 "cells": [
  {
   "cell_type": "code",
   "execution_count": 1,
   "id": "3fe7b3d1-5e35-4160-8aba-327467e6639f",
   "metadata": {},
   "outputs": [
    {
     "ename": "SyntaxError",
     "evalue": "'(' was never closed (PlasmaDataset.py, line 36)",
     "output_type": "error",
     "traceback": [
      "Traceback \u001b[0;36m(most recent call last)\u001b[0m:\n",
      "\u001b[0m  File \u001b[1;32m/opt/homebrew/Caskroom/miniconda/base/envs/predictor/lib/python3.11/site-packages/IPython/core/interactiveshell.py:3577\u001b[0m in \u001b[1;35mrun_code\u001b[0m\n    exec(code_obj, self.user_global_ns, self.user_ns)\u001b[0m\n",
      "\u001b[0;36m  Cell \u001b[0;32mIn[1], line 4\u001b[0;36m\n\u001b[0;31m    from PD.PlasmaDataset import PlasmaDataset\u001b[0;36m\n",
      "\u001b[0;36m  File \u001b[0;32m~/Desktop/plasma/python_DP/Predictor/PD/PlasmaDataset.py:36\u001b[0;36m\u001b[0m\n\u001b[0;31m    def deleteDataset(\u001b[0m\n\u001b[0m                     ^\u001b[0m\n\u001b[0;31mSyntaxError\u001b[0m\u001b[0;31m:\u001b[0m '(' was never closed\n"
     ]
    }
   ],
   "source": [
    "import numpy as np\n",
    "import random\n",
    "import os\n",
    "from PD.PlasmaDataset import PlasmaDataset\n",
    "from PML.PlasmaModel import PlasmaModel"
   ]
  },
  {
   "cell_type": "code",
   "execution_count": null,
   "id": "a3877660-dae5-46a9-8097-9b62c550e384",
   "metadata": {},
   "outputs": [],
   "source": [
    "DATA_SPLIT = [0.5, 0.3, 0.2] # train/test/val splits\n",
    "DATA_FRAC = 1\n",
    "ORG_DATA_DIR = \"./jtext_org\"\n",
    "HDF5_DATA_DIR = \"./jtext_data/low_freq\"\n",
    "SETS = {}"
   ]
  },
  {
   "cell_type": "code",
   "execution_count": null,
   "id": "7c6cbd47-38c8-4649-8f4c-24e676289e5a",
   "metadata": {},
   "outputs": [],
   "source": [
    "def makeDataset(dataset:\"PlasmaDataset\", split:list, features:list, frac:float=1, preview=False):\n",
    "    dataset.initialize()\n",
    "    dataset.sourceFiles(data_split = split, data_frac = frac)\n",
    "    dataset.sourceData(features)\n",
    "    dataset.calcStats()\n",
    "    dataset.normalize()\n",
    "    dataset.saveCSV(['train', 'test', 'val', 'stats'])\n",
    "    if preview:\n",
    "        dataset.preview()"
   ]
  },
  {
   "cell_type": "code",
   "execution_count": null,
   "id": "0e97a930-2ec4-4e6c-b85d-25a16d421b66",
   "metadata": {},
   "outputs": [],
   "source": [
    "FEATS = ['ip', 'ip_error', 'dx', 'dy', 'AXUV_CE_66', 'AXUV_CE_70', 'AXUV_CE_74', 'AXUV_CE_78']\n",
    "\n",
    "JTEXT_LOW = PlasmaDataset(org_directory = ORG_DATA_DIR, h5_source = HDF5_DATA_DIR)\n",
    "makeDataset(JTEXT_LOW, split=DATA_SPLIT, frac=DATA_FRAC, features=None)"
   ]
  },
  {
   "cell_type": "code",
   "execution_count": null,
   "id": "56be07b9-239d-4e70-b40c-38ced2db8f5a",
   "metadata": {},
   "outputs": [],
   "source": []
  }
 ],
 "metadata": {
  "kernelspec": {
   "display_name": "Python 3 (ipykernel)",
   "language": "python",
   "name": "python3"
  },
  "language_info": {
   "codemirror_mode": {
    "name": "ipython",
    "version": 3
   },
   "file_extension": ".py",
   "mimetype": "text/x-python",
   "name": "python",
   "nbconvert_exporter": "python",
   "pygments_lexer": "ipython3",
   "version": "3.11.5"
  }
 },
 "nbformat": 4,
 "nbformat_minor": 5
}
