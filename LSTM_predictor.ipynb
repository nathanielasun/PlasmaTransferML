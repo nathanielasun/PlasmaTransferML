{
 "cells": [
  {
   "cell_type": "code",
   "execution_count": 1,
   "id": "3fe7b3d1-5e35-4160-8aba-327467e6639f",
   "metadata": {},
   "outputs": [],
   "source": [
    "import numpy as np\n",
    "import random\n",
    "import os\n",
    "from PD.PlasmaDataset import PlasmaDataset\n",
    "from PML.PlasmaModel import PlasmaModel"
   ]
  },
  {
   "cell_type": "code",
   "execution_count": 2,
   "id": "a3877660-dae5-46a9-8097-9b62c550e384",
   "metadata": {},
   "outputs": [],
   "source": [
    "DATA_SPLIT = [0.5, 0.3, 0.2] #train/test/val splits\n",
    "DATA_FRAC = 1 #fraction of files to load data from\n",
    "ORG_DATA_DIR = \"./jtext_org\" #directory for exporting data CSVs\n",
    "HDF5_DATA_DIR = \"./jtext_data/low_freq\" #data to source hdf5 files from\n",
    "FEATS = ['dx', 'dy'] #model features\n",
    "HP_SEARCH = 'grid' #hyperparameter search mode"
   ]
  },
  {
   "cell_type": "code",
   "execution_count": 3,
   "id": "a7ce6538-176d-4b75-bfdd-7a825e70a05e",
   "metadata": {},
   "outputs": [],
   "source": [
    "#initialize processed data with some dummy training feature data directories for testing (uses dx and dy features)\n",
    "processed_data = {\n",
    "    \"train_norm\"   : './jtext_org/train/train-norm-dxdy-dummy.csv',\n",
    "    \"train_labels\" : './jtext_org/train/train-labels-dxdy-dummy.csv',\n",
    "    \"test_norm\"    : './jtext_org/test/test-norm-dxdy-dummy.csv',\n",
    "    \"test_labels\"  : './jtext_org/test/test-labels-dxdy-dummy.csv',\n",
    "    \"val_norm\"     : './jtext_org/val/val-norm-dxdy-dummy.csv',\n",
    "    \"val_labels\"   : './jtext_org/val/val-labels-dxdy-dummy.csv'\n",
    "}"
   ]
  },
  {
   "cell_type": "code",
   "execution_count": null,
   "id": "7a063378-18a1-4747-9d3b-98ff3888c93e",
   "metadata": {},
   "outputs": [],
   "source": [
    "#designate feature ranges for hyperparameter search"
   ]
  },
  {
   "cell_type": "code",
   "execution_count": 4,
   "id": "7c6cbd47-38c8-4649-8f4c-24e676289e5a",
   "metadata": {},
   "outputs": [],
   "source": [
    "def makeDataset(dataset:\"PlasmaDataset\", split:list, features:list, frac:float=1, preview=False):\n",
    "    dataset.initialize() #creates train/test/val subdatasets\n",
    "    dataset.sourceFiles(data_split = split, data_frac = frac) #initialize split/datafrac and gather hdf5 file info\n",
    "    dataset.sourceData(features) #source specified feature data from files\n",
    "    dataset.calcStats() #calculate data statistics from raw feature data\n",
    "    dataset.normalize() #use data statistics to normalize data\n",
    "    dataset.saveCSV(['train', 'test', 'val', 'stats'], name=\"dxdy-dummy\") #export dataset to model-loadable CSV\n",
    "    if preview:\n",
    "        dataset.preview() #preview datasets\n",
    "    dataset.deleteDatasets() #remove dataset from memory (since saved to CSV)"
   ]
  },
  {
   "cell_type": "code",
   "execution_count": null,
   "id": "51df6cae-7e5b-458f-8b1f-0f65cab2513a",
   "metadata": {},
   "outputs": [],
   "source": [
    "def makeModels(processed_data"
   ]
  },
  {
   "cell_type": "code",
   "execution_count": 5,
   "id": "0e97a930-2ec4-4e6c-b85d-25a16d421b66",
   "metadata": {},
   "outputs": [],
   "source": [
    "JTEXT_LOW = PlasmaDataset(org_directory = ORG_DATA_DIR, h5_source = HDF5_DATA_DIR)\n",
    "makeDataset(JTEXT_LOW, split=DATA_SPLIT, frac=DATA_FRAC, features=FEATS)"
   ]
  },
  {
   "cell_type": "code",
   "execution_count": null,
   "id": "dbb0ab3e-c0d4-4ae2-add8-7f12f7becb7a",
   "metadata": {},
   "outputs": [],
   "source": []
  }
 ],
 "metadata": {
  "kernelspec": {
   "display_name": "Python 3 (ipykernel)",
   "language": "python",
   "name": "python3"
  },
  "language_info": {
   "codemirror_mode": {
    "name": "ipython",
    "version": 3
   },
   "file_extension": ".py",
   "mimetype": "text/x-python",
   "name": "python",
   "nbconvert_exporter": "python",
   "pygments_lexer": "ipython3",
   "version": "3.11.5"
  }
 },
 "nbformat": 4,
 "nbformat_minor": 5
}
