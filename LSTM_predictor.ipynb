{
 "cells": [
  {
   "cell_type": "code",
   "execution_count": 1,
   "id": "3fe7b3d1-5e35-4160-8aba-327467e6639f",
   "metadata": {},
   "outputs": [],
   "source": [
    "import numpy as np\n",
    "import os\n",
    "import random\n",
    "import torch\n",
    "from PD.PlasmaDataset import PlasmaDataset\n",
    "from PML.PlasmaModel import PlasmaModel\n",
    "from PML.PMLParameters import PMLParameters"
   ]
  },
  {
   "cell_type": "code",
   "execution_count": 2,
   "id": "a3877660-dae5-46a9-8097-9b62c550e384",
   "metadata": {},
   "outputs": [],
   "source": [
    "DATA_SPLIT = [0.5, 0.2, 0.3] #train/test/val splits\n",
    "DATA_FRAC = 1 #fraction of files to load data from\n",
    "DATASET_NAME = \"main\"\n",
    "HDF5_DATA_DIR = \"./jtext_data/low_freq\" #data to source hdf5 files from\n",
    "ORG_DATA_DIR = \"./jtext_org\" #directory for exporting data CSVs\n",
    "MODEL_COUNT = 2000 #number of models to randomly generate and train\n",
    "MODEL_DIR = \"./models\" #directory to save trained models\n",
    "MODEL_METRICS = \"./models/metrics.json\"\n",
    "FEATS = [\n",
    "    'AXUV_CA_02',\n",
    "    'AXUV_CA_06',\n",
    "    'AXUV_CA_10',\n",
    "    'AXUV_CA_14',\n",
    "    'AXUV_CB_18',\n",
    "    'AXUV_CB_22',\n",
    "    'AXUV_CB_26',\n",
    "    'AXUV_CB_30',\n",
    "    'AXUV_CE_66',\n",
    "    'AXUV_CE_70',\n",
    "    'AXUV_CE_74',\n",
    "    'AXUV_CE_78',\n",
    "    'AXUV_CF_82',\n",
    "    'AXUV_CF_86',\n",
    "    'AXUV_CF_90',\n",
    "    'AXUV_CF_94',\n",
    "    'P_in',\n",
    "    'P_rad',\n",
    "    'bt',\n",
    "    'dx', 'dy', \n",
    "    'Iohp', 'ip', \n",
    "    'ip_error',\n",
    "    'qa_proxy',\n",
    "    'radiation_proxy',\n",
    "    'ne0',\n",
    "    'ne_nG',\n",
    "    'rotating_mode_proxy'\n",
    "] #model features\n",
    "HP_SEARCH = 'random' #hyperparameter search mode"
   ]
  },
  {
   "cell_type": "code",
   "execution_count": 3,
   "id": "a7ce6538-176d-4b75-bfdd-7a825e70a05e",
   "metadata": {},
   "outputs": [],
   "source": [
    "#initialize processed data with some dummy training feature data directories for testing (uses dx and dy features)\n",
    "PROCESSED_DATA = {\n",
    "    \"train_norm\"   : f'./jtext_org/train/train-norm-{DATASET_NAME}.csv',\n",
    "    \"train_labels\" : f'./jtext_org/train/train-labels-{DATASET_NAME}.csv',\n",
    "    \"test_norm\"    : f'./jtext_org/test/test-norm-{DATASET_NAME}.csv',\n",
    "    \"test_labels\"  : f'./jtext_org/test/test-labels-{DATASET_NAME}.csv',\n",
    "    \"val_norm\"     : f'./jtext_org/val/val-norm-{DATASET_NAME}.csv',\n",
    "    \"val_labels\"   : f'./jtext_org/val/val-labels-{DATASET_NAME}.csv'\n",
    "}"
   ]
  },
  {
   "cell_type": "code",
   "execution_count": 4,
   "id": "7a063378-18a1-4747-9d3b-98ff3888c93e",
   "metadata": {},
   "outputs": [],
   "source": [
    "#designate feature ranges and static parameters for hyperparameter search\n",
    "#note to current user - grid search is currently borked - don't use (plus not efficient)\n",
    "PARAMETER_RANGES = {\n",
    "    'lr'            : [0.001, 0.05], #learning rate range\n",
    "    'lstm_layers'   : [[200,800], [80,320]], #lstm layer count and hidden size ranges\n",
    "    'linear_layers' : [[50,300], [50,250]], #linear layer count and neuron ranges\n",
    "    'dropout_layers': [[0.05, 0.2]], #dropout layer count and dropout probabilities\n",
    "    'epochs'        : [10, 50]\n",
    "}\n",
    "STATIC_PARAMETERS = {\n",
    "    'batch_size'       : 16,\n",
    "    'criterion'        : torch.nn.BCEWithLogitsLoss(), #uses binary cross entropy loss\n",
    "    'init'             : torch.nn.init.xavier_normal_,\n",
    "    'input_size'       : len(FEATS), #set input size to # of features\n",
    "    'lstm_activation'  : torch.nn.functional.tanh, #LSTM layers activation function\n",
    "    'linear_activation': torch.nn.functional.relu, #Linear layers activation function\n",
    "    'optimizer'        : torch.optim.Adam, #use ADAM optimizer\n",
    "    'output_activation': torch.nn.functional.sigmoid, #output neuron activation\n",
    "}"
   ]
  },
  {
   "cell_type": "code",
   "execution_count": 5,
   "id": "7c6cbd47-38c8-4649-8f4c-24e676289e5a",
   "metadata": {},
   "outputs": [],
   "source": [
    "def makeDataset(dataset:\"PlasmaDataset\", split:list, features:list, frac:float=1, preview=False):\n",
    "    dataset.initialize() #creates train/test/val subdatasets\n",
    "    dataset.sourceFiles(data_split = split, data_frac = frac) #initialize split/datafrac and gather hdf5 file info\n",
    "    dataset.sourceData(features) #source specified feature data from files\n",
    "    dataset.calcStats() #calculate data statistics from raw feature data\n",
    "    dataset.normalize() #use data statistics to normalize data\n",
    "    dataset.saveCSV(['train', 'test', 'val', 'stats'], name=DATASET_NAME) #export dataset to model-loadable CSV\n",
    "    if preview:\n",
    "        dataset.preview() #preview datasets\n",
    "    dataset.deleteDatasets() #remove dataset from memory (since saved to CSV)"
   ]
  },
  {
   "cell_type": "code",
   "execution_count": 6,
   "id": "51df6cae-7e5b-458f-8b1f-0f65cab2513a",
   "metadata": {},
   "outputs": [],
   "source": [
    "def makeModels(\n",
    "                modeler:\"PlasmaModel\", \n",
    "                processed_data:dict, \n",
    "                parameter_ranges:dict, \n",
    "                static_parameters:dict, \n",
    "                model_count:int, \n",
    "                searchmode:str\n",
    "              ):\n",
    "    modeler.makeHyperparameterSet(\n",
    "                    static_params=static_parameters, \n",
    "                    param_ranges=parameter_ranges, \n",
    "                    count=model_count, \n",
    "                    mode=searchmode\n",
    "    )\n",
    "    modeler.prepareData(processed_data)\n",
    "    modeler.runModelSearch()"
   ]
  },
  {
   "cell_type": "code",
   "execution_count": null,
   "id": "0e97a930-2ec4-4e6c-b85d-25a16d421b66",
   "metadata": {
    "scrolled": true
   },
   "outputs": [
    {
     "name": "stdout",
     "output_type": "stream",
     "text": [
      "{'batch_size': 16, 'criterion': BCEWithLogitsLoss(), 'init': <function xavier_normal_ at 0x00000279D1D9AF20>, 'input_size': 29, 'lstm_activation': <function tanh at 0x00000279D1D12340>, 'linear_activation': <function relu at 0x00000279D1D11940>, 'optimizer': <class 'torch.optim.adam.Adam'>, 'output_activation': <function sigmoid at 0x00000279D1D123E0>, 'lr': 0.014414732983136957, 'lstm_layers': [245, 260], 'linear_layers': [195, 243], 'dropout_layers': [0.14663082894211107], 'epochs': 30}\n"
     ]
    },
    {
     "name": "stderr",
     "output_type": "stream",
     "text": [
      "C:\\predictor\\predictor\\PML\\PlasmaModel.py:284: UserWarning: Converting a tensor with requires_grad=True to a scalar may lead to unexpected behavior.\n",
      "Consider using tensor.detach() first. (Triggered internally at C:\\actions-runner\\_work\\pytorch\\pytorch\\pytorch\\aten\\src\\ATen\\native\\Scalar.cpp:23.)\n",
      "  running_loss += loss.item() * inputs.size(0)\n"
     ]
    },
    {
     "name": "stdout",
     "output_type": "stream",
     "text": [
      "Epoch [1/30], Training Loss: 0.8293\n",
      "Epoch [1/30], Validation Loss: 0.7668\n",
      "Epoch [2/30], Training Loss: 0.6716\n",
      "Epoch [2/30], Validation Loss: 0.7022\n",
      "Epoch [3/30], Training Loss: 0.6664\n",
      "Epoch [3/30], Validation Loss: 0.6715\n",
      "Epoch [4/30], Training Loss: 0.6619\n",
      "Epoch [4/30], Validation Loss: 0.6690\n",
      "Epoch [5/30], Training Loss: 0.6633\n",
      "Epoch [5/30], Validation Loss: 0.6653\n",
      "Epoch [6/30], Training Loss: 0.6463\n",
      "Epoch [6/30], Validation Loss: 0.6706\n",
      "Epoch [7/30], Training Loss: 0.6634\n",
      "Epoch [7/30], Validation Loss: 0.6747\n",
      "Epoch [8/30], Training Loss: 0.6443\n",
      "Epoch [8/30], Validation Loss: 0.6799\n",
      "Epoch [9/30], Training Loss: 0.6516\n",
      "Epoch [9/30], Validation Loss: 0.6669\n",
      "Epoch [10/30], Training Loss: 0.6496\n",
      "Epoch [10/30], Validation Loss: 0.6819\n",
      "Epoch [11/30], Training Loss: 0.6445\n",
      "Epoch [11/30], Validation Loss: 0.6653\n",
      "Epoch [12/30], Training Loss: 0.6622\n",
      "Epoch [12/30], Validation Loss: 0.6627\n",
      "Epoch [13/30], Training Loss: 0.6521\n",
      "Epoch [13/30], Validation Loss: 0.7068\n",
      "Epoch [14/30], Training Loss: 0.6587\n",
      "Epoch [14/30], Validation Loss: 0.6896\n",
      "Epoch [15/30], Training Loss: 0.6579\n",
      "Epoch [15/30], Validation Loss: 0.6584\n",
      "Epoch [16/30], Training Loss: 0.6557\n",
      "Epoch [16/30], Validation Loss: 0.6611\n",
      "Epoch [17/30], Training Loss: 0.6669\n",
      "Epoch [17/30], Validation Loss: 0.6602\n",
      "Epoch [18/30], Training Loss: 0.6549\n",
      "Epoch [18/30], Validation Loss: 0.6617\n",
      "Epoch [19/30], Training Loss: 0.6606\n",
      "Epoch [19/30], Validation Loss: 0.6654\n",
      "Epoch [20/30], Training Loss: 0.6541\n",
      "Epoch [20/30], Validation Loss: 0.6584\n",
      "Epoch [21/30], Training Loss: 0.6401\n"
     ]
    }
   ],
   "source": [
    "JTEXT_LOW = PlasmaDataset(org_directory = ORG_DATA_DIR, h5_source = HDF5_DATA_DIR)\n",
    "MODELER = PlasmaModel(MODEL_DIR, static_parameters=STATIC_PARAMETERS, json_save_file=MODEL_METRICS)\n",
    "makeDataset(JTEXT_LOW, split=DATA_SPLIT, frac=DATA_FRAC, features=FEATS)\n",
    "makeModels(\n",
    "    modeler=MODELER,\n",
    "    processed_data=PROCESSED_DATA,\n",
    "    parameter_ranges=PARAMETER_RANGES,\n",
    "    static_parameters=STATIC_PARAMETERS,\n",
    "    model_count=MODEL_COUNT,\n",
    "    searchmode=HP_SEARCH\n",
    ")"
   ]
  },
  {
   "cell_type": "code",
   "execution_count": null,
   "id": "83449bd6-3e57-4844-bc1b-03a7bef15cf1",
   "metadata": {},
   "outputs": [],
   "source": []
  },
  {
   "cell_type": "code",
   "execution_count": null,
   "id": "5a6da1aa-5a96-4d82-90a0-473b077d2a5e",
   "metadata": {},
   "outputs": [],
   "source": []
  }
 ],
 "metadata": {
  "kernelspec": {
   "display_name": "Python 3 (ipykernel)",
   "language": "python",
   "name": "python3"
  },
  "language_info": {
   "codemirror_mode": {
    "name": "ipython",
    "version": 3
   },
   "file_extension": ".py",
   "mimetype": "text/x-python",
   "name": "python",
   "nbconvert_exporter": "python",
   "pygments_lexer": "ipython3",
   "version": "3.13.2"
  }
 },
 "nbformat": 4,
 "nbformat_minor": 5
}
